{
 "cells": [
  {
   "cell_type": "markdown",
   "metadata": {},
   "source": [
    "<img src=\"./assets/images/iris.jpg\" alt=\"iris\" title=\"iris\" style=\"float: right; margin-left: 1rem;\" />\n",
    "\n",
    "# scikit-learn Iris Model using jsonData\n",
    "\n",
    "We will train a model for the Iris classification task. In this simple dataset we try to classifier a type if Iris based on its petal and sepal length. \n",
    "\n",
    " * Wrap a scikit-learn python model for use as a prediction microservice in seldon-core\n",
    "   * Run locally on Docker to test\n",
    "   * Deploy on seldon-core running on minikube"
   ]
  },
  {
   "cell_type": "markdown",
   "metadata": {},
   "source": [
    "## Dependencies\n",
    "\n",
    " * [S2I](https://github.com/openshift/source-to-image)\n",
    " * [sklearn](http://scikit-learn.org/stable/) to train the model\n",
    " * [grpcio-tools](https://grpc.io/docs/quickstart/python.html) to allow testing using gRPC\n",
    " * [Helm](https://github.com/kubernetes/helm)\n",
    " * [Minikube](https://github.com/kubernetes/minikube)"
   ]
  },
  {
   "cell_type": "code",
   "execution_count": 9,
   "metadata": {},
   "outputs": [
    {
     "name": "stdout",
     "output_type": "stream",
     "text": [
      "\u001b[34mimport\u001b[39;49;00m \u001b[04m\u001b[36mjoblib\u001b[39;49;00m\r\n",
      "\u001b[34mimport\u001b[39;49;00m \u001b[04m\u001b[36msys\u001b[39;49;00m\r\n",
      "\r\n",
      "\r\n",
      "\u001b[34mdef\u001b[39;49;00m \u001b[32meprint\u001b[39;49;00m(*args, **kwargs):\r\n",
      "    \u001b[34mprint\u001b[39;49;00m(*args, \u001b[36mfile\u001b[39;49;00m=sys.stderr, **kwargs)\r\n",
      "\r\n",
      "\r\n",
      "\u001b[34mclass\u001b[39;49;00m \u001b[04m\u001b[32mIrisClassifier\u001b[39;49;00m(\u001b[36mobject\u001b[39;49;00m):\r\n",
      "    \u001b[34mdef\u001b[39;49;00m \u001b[32m__init__\u001b[39;49;00m(\u001b[36mself\u001b[39;49;00m):\r\n",
      "        \u001b[36mself\u001b[39;49;00m.model = joblib.load(\u001b[33m'\u001b[39;49;00m\u001b[33mIrisClassifier.sav\u001b[39;49;00m\u001b[33m'\u001b[39;49;00m)\r\n",
      "        \u001b[37m# self.class_names = [\"iris-setosa\",\"iris-vericolor\",\"iris-virginica\"]\u001b[39;49;00m\r\n",
      "\r\n",
      "    \u001b[34mdef\u001b[39;49;00m \u001b[32mpredict\u001b[39;49;00m(\u001b[36mself\u001b[39;49;00m, X, features_names):\r\n",
      "        eprint(\u001b[33m'\u001b[39;49;00m\u001b[33m--------------------\u001b[39;49;00m\u001b[33m'\u001b[39;49;00m)\r\n",
      "        eprint(\u001b[33m'\u001b[39;49;00m\u001b[33mInput dict\u001b[39;49;00m\u001b[33m'\u001b[39;49;00m)\r\n",
      "        eprint(X)\r\n",
      "        eprint(\u001b[33m'\u001b[39;49;00m\u001b[33m--------------------\u001b[39;49;00m\u001b[33m'\u001b[39;49;00m)\r\n",
      "\r\n",
      "        \u001b[34mreturn\u001b[39;49;00m \u001b[36mself\u001b[39;49;00m.model.predict_proba(X)\r\n"
     ]
    }
   ],
   "source": [
    "!pygmentize ./IrisClassifier.py"
   ]
  },
  {
   "cell_type": "code",
   "execution_count": 10,
   "metadata": {},
   "outputs": [
    {
     "name": "stdout",
     "output_type": "stream",
     "text": [
      "MODEL_NAME=IrisClassifier\r\n",
      "API_TYPE=REST\r\n",
      "SERVICE_TYPE=MODEL\r\n",
      "PERSISTENCE=0\r\n"
     ]
    }
   ],
   "source": [
    "!cat .s2i/environment"
   ]
  },
  {
   "cell_type": "code",
   "execution_count": 12,
   "metadata": {},
   "outputs": [
    {
     "name": "stdout",
     "output_type": "stream",
     "text": [
      "{\r\n",
      "  \u001b[94m\"features\"\u001b[39;49;00m: [\r\n",
      "    {\r\n",
      "      \u001b[94m\"name\"\u001b[39;49;00m: \u001b[33m\"sepal_length\"\u001b[39;49;00m,\r\n",
      "      \u001b[94m\"dtype\"\u001b[39;49;00m: \u001b[33m\"FLOAT\"\u001b[39;49;00m,\r\n",
      "      \u001b[94m\"ftype\"\u001b[39;49;00m: \u001b[33m\"continuous\"\u001b[39;49;00m,\r\n",
      "      \u001b[94m\"range\"\u001b[39;49;00m: [\r\n",
      "        \u001b[34m4\u001b[39;49;00m,\r\n",
      "        \u001b[34m8\u001b[39;49;00m\r\n",
      "      ]\r\n",
      "    },\r\n",
      "    {\r\n",
      "      \u001b[94m\"name\"\u001b[39;49;00m: \u001b[33m\"sepal_width\"\u001b[39;49;00m,\r\n",
      "      \u001b[94m\"dtype\"\u001b[39;49;00m: \u001b[33m\"FLOAT\"\u001b[39;49;00m,\r\n",
      "      \u001b[94m\"ftype\"\u001b[39;49;00m: \u001b[33m\"continuous\"\u001b[39;49;00m,\r\n",
      "      \u001b[94m\"range\"\u001b[39;49;00m: [\r\n",
      "        \u001b[34m2\u001b[39;49;00m,\r\n",
      "        \u001b[34m5\u001b[39;49;00m\r\n",
      "      ]\r\n",
      "    },\r\n",
      "    {\r\n",
      "      \u001b[94m\"name\"\u001b[39;49;00m: \u001b[33m\"petal_length\"\u001b[39;49;00m,\r\n",
      "      \u001b[94m\"dtype\"\u001b[39;49;00m: \u001b[33m\"FLOAT\"\u001b[39;49;00m,\r\n",
      "      \u001b[94m\"ftype\"\u001b[39;49;00m: \u001b[33m\"continuous\"\u001b[39;49;00m,\r\n",
      "      \u001b[94m\"range\"\u001b[39;49;00m: [\r\n",
      "        \u001b[34m1\u001b[39;49;00m,\r\n",
      "        \u001b[34m10\u001b[39;49;00m\r\n",
      "      ]\r\n",
      "    },\r\n",
      "    {\r\n",
      "      \u001b[94m\"name\"\u001b[39;49;00m: \u001b[33m\"petal_width\"\u001b[39;49;00m,\r\n",
      "      \u001b[94m\"dtype\"\u001b[39;49;00m: \u001b[33m\"FLOAT\"\u001b[39;49;00m,\r\n",
      "      \u001b[94m\"ftype\"\u001b[39;49;00m: \u001b[33m\"continuous\"\u001b[39;49;00m,\r\n",
      "      \u001b[94m\"range\"\u001b[39;49;00m: [\r\n",
      "        \u001b[34m0\u001b[39;49;00m,\r\n",
      "        \u001b[34m3\u001b[39;49;00m\r\n",
      "      ]\r\n",
      "    }\r\n",
      "  ],\r\n",
      "  \u001b[94m\"targets\"\u001b[39;49;00m: [\r\n",
      "    {\r\n",
      "      \u001b[94m\"name\"\u001b[39;49;00m: \u001b[33m\"class\"\u001b[39;49;00m,\r\n",
      "      \u001b[94m\"dtype\"\u001b[39;49;00m: \u001b[33m\"FLOAT\"\u001b[39;49;00m,\r\n",
      "      \u001b[94m\"ftype\"\u001b[39;49;00m: \u001b[33m\"continuous\"\u001b[39;49;00m,\r\n",
      "      \u001b[94m\"range\"\u001b[39;49;00m: [\r\n",
      "        \u001b[34m0\u001b[39;49;00m,\r\n",
      "        \u001b[34m1\u001b[39;49;00m\r\n",
      "      ],\r\n",
      "      \u001b[94m\"repeat\"\u001b[39;49;00m: \u001b[34m3\u001b[39;49;00m\r\n",
      "    }\r\n",
      "  ]\r\n",
      "}\r\n"
     ]
    }
   ],
   "source": [
    "!pygmentize ./contract.json"
   ]
  },
  {
   "cell_type": "code",
   "execution_count": 11,
   "metadata": {},
   "outputs": [
    {
     "name": "stdout",
     "output_type": "stream",
     "text": [
      "{\r\n",
      "  \u001b[94m\"apiVersion\"\u001b[39;49;00m: \u001b[33m\"machinelearning.seldon.io/v1alpha2\"\u001b[39;49;00m,\r\n",
      "  \u001b[94m\"kind\"\u001b[39;49;00m: \u001b[33m\"SeldonDeployment\"\u001b[39;49;00m,\r\n",
      "  \u001b[94m\"metadata\"\u001b[39;49;00m: {\r\n",
      "    \u001b[94m\"labels\"\u001b[39;49;00m: {\r\n",
      "      \u001b[94m\"app\"\u001b[39;49;00m: \u001b[33m\"seldon\"\u001b[39;49;00m\r\n",
      "    },\r\n",
      "    \u001b[94m\"name\"\u001b[39;49;00m: \u001b[33m\"sklearn-iris-classifier\"\u001b[39;49;00m\r\n",
      "  },\r\n",
      "  \u001b[94m\"spec\"\u001b[39;49;00m: {\r\n",
      "    \u001b[94m\"annotations\"\u001b[39;49;00m: {\r\n",
      "      \u001b[94m\"project_name\"\u001b[39;49;00m: \u001b[33m\"Iris classification\"\u001b[39;49;00m,\r\n",
      "      \u001b[94m\"deployment_version\"\u001b[39;49;00m: \u001b[33m\"0.1\"\u001b[39;49;00m\r\n",
      "    },\r\n",
      "    \u001b[94m\"name\"\u001b[39;49;00m: \u001b[33m\"sklearn-iris-deployment\"\u001b[39;49;00m,\r\n",
      "    \u001b[94m\"oauth_key\"\u001b[39;49;00m: \u001b[33m\"oauth-key\"\u001b[39;49;00m,\r\n",
      "    \u001b[94m\"oauth_secret\"\u001b[39;49;00m: \u001b[33m\"oauth-secret\"\u001b[39;49;00m,\r\n",
      "    \u001b[94m\"predictors\"\u001b[39;49;00m: [\r\n",
      "      {\r\n",
      "        \u001b[94m\"componentSpecs\"\u001b[39;49;00m: [\r\n",
      "          {\r\n",
      "            \u001b[94m\"spec\"\u001b[39;49;00m: {\r\n",
      "              \u001b[94m\"containers\"\u001b[39;49;00m: [\r\n",
      "                {\r\n",
      "                  \u001b[94m\"image\"\u001b[39;49;00m: \u001b[33m\"brunowego/sklearn-iris-jsondata:0.1\"\u001b[39;49;00m,\r\n",
      "                  \u001b[94m\"imagePullPolicy\"\u001b[39;49;00m: \u001b[33m\"IfNotPresent\"\u001b[39;49;00m,\r\n",
      "                  \u001b[94m\"name\"\u001b[39;49;00m: \u001b[33m\"sklearn-iris-classifier\"\u001b[39;49;00m,\r\n",
      "                  \u001b[94m\"resources\"\u001b[39;49;00m: {\r\n",
      "                    \u001b[94m\"requests\"\u001b[39;49;00m: {\r\n",
      "                      \u001b[94m\"memory\"\u001b[39;49;00m: \u001b[33m\"1Mi\"\u001b[39;49;00m\r\n",
      "                    }\r\n",
      "                  }\r\n",
      "                }\r\n",
      "              ],\r\n",
      "              \u001b[94m\"terminationGracePeriodSeconds\"\u001b[39;49;00m: \u001b[34m20\u001b[39;49;00m\r\n",
      "            }\r\n",
      "          }\r\n",
      "        ],\r\n",
      "        \u001b[94m\"graph\"\u001b[39;49;00m: {\r\n",
      "          \u001b[94m\"children\"\u001b[39;49;00m: [],\r\n",
      "          \u001b[94m\"name\"\u001b[39;49;00m: \u001b[33m\"sklearn-iris-classifier\"\u001b[39;49;00m,\r\n",
      "          \u001b[94m\"endpoint\"\u001b[39;49;00m: {\r\n",
      "            \u001b[94m\"type\"\u001b[39;49;00m: \u001b[33m\"REST\"\u001b[39;49;00m\r\n",
      "          },\r\n",
      "          \u001b[94m\"type\"\u001b[39;49;00m: \u001b[33m\"MODEL\"\u001b[39;49;00m\r\n",
      "        },\r\n",
      "        \u001b[94m\"name\"\u001b[39;49;00m: \u001b[33m\"sklearn-iris-predictor\"\u001b[39;49;00m,\r\n",
      "        \u001b[94m\"replicas\"\u001b[39;49;00m: \u001b[34m1\u001b[39;49;00m,\r\n",
      "        \u001b[94m\"annotations\"\u001b[39;49;00m: {\r\n",
      "          \u001b[94m\"predictor_version\"\u001b[39;49;00m: \u001b[33m\"0.1\"\u001b[39;49;00m\r\n",
      "        }\r\n",
      "      }\r\n",
      "    ]\r\n",
      "  }\r\n",
      "}\r\n"
     ]
    }
   ],
   "source": [
    "!pygmentize deployment.json"
   ]
  },
  {
   "cell_type": "code",
   "execution_count": null,
   "metadata": {},
   "outputs": [],
   "source": []
  }
 ],
 "metadata": {
  "kernelspec": {
   "display_name": ".venv",
   "language": "python",
   "name": ".venv"
  },
  "language_info": {
   "codemirror_mode": {
    "name": "ipython",
    "version": 3
   },
   "file_extension": ".py",
   "mimetype": "text/x-python",
   "name": "python",
   "nbconvert_exporter": "python",
   "pygments_lexer": "ipython3",
   "version": "3.7.4"
  },
  "varInspector": {
   "cols": {
    "lenName": 16,
    "lenType": 16,
    "lenVar": 40
   },
   "kernels_config": {
    "python": {
     "delete_cmd_postfix": "",
     "delete_cmd_prefix": "del ",
     "library": "var_list.py",
     "varRefreshCmd": "print(var_dic_list())"
    },
    "r": {
     "delete_cmd_postfix": ") ",
     "delete_cmd_prefix": "rm(",
     "library": "var_list.r",
     "varRefreshCmd": "cat(var_dic_list()) "
    }
   },
   "types_to_exclude": [
    "module",
    "function",
    "builtin_function_or_method",
    "instance",
    "_Feature"
   ],
   "window_display": false
  }
 },
 "nbformat": 4,
 "nbformat_minor": 2
}
